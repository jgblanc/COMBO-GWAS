{
  "nbformat": 4,
  "nbformat_minor": 0,
  "metadata": {
    "colab": {
      "provenance": []
    },
    "kernelspec": {
      "name": "python3",
      "display_name": "Python 3"
    },
    "language_info": {
      "name": "python"
    }
  },
  "cells": [
    {
      "cell_type": "markdown",
      "source": [
        "# A Crash Course on Computer Programing"
      ],
      "metadata": {
        "id": "wyulD63SHvF5"
      }
    },
    {
      "cell_type": "markdown",
      "source": [
        "This will be a brief crash course in the basics of computer programming using a computer \"language\" called Python. Python is used every day to do real science.\n",
        "\n",
        "We're going to write our code today in this Google CoLab Notebook. This allows us to write python code on the internet, sort of like Google Docs.\n",
        "\n",
        "Computer code is very specific instructions for what the computer should do.\n",
        "In this notebook, each bit of code or instructions is inside of a \"cell.\" You can make the computer follow the instructions in a cell by pressing the \"Play\" button in the top-left corner. We call this \"running\" a cell.\n",
        "\n",
        "Getting instructions out of order can be very confusing for people, and it's the same for comptuers. If you run cells out of order the computer might get confused and not work right.\n",
        "\n",
        "What happens if you run the first cell below?"
      ],
      "metadata": {
        "id": "D2dYvO4XIXBj"
      }
    },
    {
      "cell_type": "code",
      "source": [
        "1 + 1"
      ],
      "metadata": {
        "id": "9t24ig9NK3UI"
      },
      "execution_count": null,
      "outputs": []
    },
    {
      "cell_type": "markdown",
      "source": [
        "What about this cell?"
      ],
      "metadata": {
        "id": "YVIdd37UK98H"
      }
    },
    {
      "cell_type": "code",
      "source": [
        "print(\"Hello! We're so good at programming!!!\")"
      ],
      "metadata": {
        "id": "8onlP3nSKjCd"
      },
      "execution_count": null,
      "outputs": []
    },
    {
      "cell_type": "markdown",
      "source": [
        "Just like how you have to follow very specific grammar rules when you write an essay in English class, you have to follow very specific rules when you write computer code. If you don't follow the grammar rules, the computer won't be able to read what you've written and follow your instructions.\n",
        "\n",
        "Each computer language has different rules.\n",
        "Today we are going to learn some of the rules of python.\n",
        "\n",
        "## Let's jump into it!"
      ],
      "metadata": {
        "id": "HzO4KYdKLVyQ"
      }
    },
    {
      "cell_type": "markdown",
      "source": [
        "## Arithmetic"
      ],
      "metadata": {
        "id": "SRuuShf6MPQb"
      }
    },
    {
      "cell_type": "markdown",
      "source": [
        "Computers are very good at doing arithmetic. We can do arithmetic using `+ -  * /`.\n",
        "\n",
        "What will happen when I run the following cells of code?"
      ],
      "metadata": {
        "id": "F0pnYGY7SatV"
      }
    },
    {
      "cell_type": "code",
      "source": [
        "45 / 5"
      ],
      "metadata": {
        "id": "lt_D-QiKSHzY"
      },
      "execution_count": null,
      "outputs": []
    },
    {
      "cell_type": "code",
      "source": [
        "6 * 20"
      ],
      "metadata": {
        "id": "kGRzEcSQS35P"
      },
      "execution_count": null,
      "outputs": []
    },
    {
      "cell_type": "code",
      "source": [
        "745 * 123 + 12"
      ],
      "metadata": {
        "id": "DsiPMQmuwIV6"
      },
      "execution_count": null,
      "outputs": []
    },
    {
      "cell_type": "markdown",
      "source": [
        "‼️**Your Turn**‼️ There are an average of 30,000,000,000,000 cells in a human body. If there are 25 people in this room, how many human cells are in this room? Hint: Write some code to multipliy `25 x 30000000000000`"
      ],
      "metadata": {
        "id": "WK1yZnErUfGl"
      }
    },
    {
      "cell_type": "code",
      "source": [
        "####### YOUR CODE HERE #######"
      ],
      "metadata": {
        "id": "WhFrw3JUUem6"
      },
      "execution_count": null,
      "outputs": []
    },
    {
      "cell_type": "markdown",
      "source": [
        "## Strings"
      ],
      "metadata": {
        "id": "UKUykyjITc6c"
      }
    },
    {
      "cell_type": "markdown",
      "source": [
        "Some words, letters, or text surrounded by `\"\"` or `''` is called a **string**. Whenever we want to work with letters or words, we have to use strings."
      ],
      "metadata": {
        "id": "GdLI9wsDTeUS"
      }
    },
    {
      "cell_type": "code",
      "source": [
        "\"Hello World!\""
      ],
      "metadata": {
        "id": "BqoKphB-TcV3"
      },
      "execution_count": null,
      "outputs": []
    },
    {
      "cell_type": "markdown",
      "source": [
        "‼️**Your Turn**‼️  Can you make a string with your name in it?"
      ],
      "metadata": {
        "id": "PMB_kgblUxja"
      }
    },
    {
      "cell_type": "code",
      "source": [
        "####### YOUR CODE HERE #######"
      ],
      "metadata": {
        "id": "1PyJqLteUw-m"
      },
      "execution_count": null,
      "outputs": []
    },
    {
      "cell_type": "markdown",
      "source": [
        "## Variables"
      ],
      "metadata": {
        "id": "96QHH59b3ccX"
      }
    },
    {
      "cell_type": "markdown",
      "source": [
        "**Variables** store information we want to use later. If we write a word *without* `\"\"` or `''` around it, the computer thinks that's a variable name.\n",
        "\n",
        "We put information into variables using `=`."
      ],
      "metadata": {
        "id": "B6RHuZhd3dbt"
      }
    },
    {
      "cell_type": "code",
      "source": [
        "coolest_school = \"Lindblom High School\""
      ],
      "metadata": {
        "id": "FtlCcp3Q33kG"
      },
      "execution_count": null,
      "outputs": []
    },
    {
      "cell_type": "markdown",
      "source": [
        "Once we have stored information inside of a variable, we use it in other bits of code. For example, what do you think the following cell will print out?"
      ],
      "metadata": {
        "id": "nBMqw_PbZf1p"
      }
    },
    {
      "cell_type": "code",
      "source": [
        "print(\"Hello students of\",coolest_school,\"!!\")"
      ],
      "metadata": {
        "id": "_ZS50g4oZexG"
      },
      "execution_count": null,
      "outputs": []
    },
    {
      "cell_type": "markdown",
      "source": [
        "We can also do arithmetic with variables that contain numbers using `+ - / *`. Can you predict the output of this cell before you run it?"
      ],
      "metadata": {
        "id": "PLMq9mA1XBmh"
      }
    },
    {
      "cell_type": "code",
      "source": [
        "firstnumber = 5\n",
        "secondnumber = 4\n",
        "thirdnumber = 3.0\n",
        "firstnumber * secondnumber"
      ],
      "metadata": {
        "id": "SbMj6hSiXTAX"
      },
      "execution_count": null,
      "outputs": []
    },
    {
      "cell_type": "markdown",
      "source": [
        "‼️**Your Turn**‼️ Multiplying `firstnumber` by `thirdnumber` instead. Before you run the cell, predict what the output will be. Is your prediction correct?"
      ],
      "metadata": {
        "id": "5i5VeAlaZLi-"
      }
    },
    {
      "cell_type": "code",
      "source": [
        "####### YOUR CODE HERE #######"
      ],
      "metadata": {
        "id": "-9RmsdOEXZ12"
      },
      "execution_count": null,
      "outputs": []
    },
    {
      "cell_type": "markdown",
      "source": [
        "‼️**Your Turn**‼️ Can you make a variable with your name in it? There's some code to get you started below."
      ],
      "metadata": {
        "id": "oq8BiJqPZJD9"
      }
    },
    {
      "cell_type": "code",
      "source": [
        "####### YOUR CODE HERE #######\n",
        "myname =\n",
        "print(\"Hello, my name is\",myname)"
      ],
      "metadata": {
        "id": "9zlPxz3QY_Ea"
      },
      "execution_count": null,
      "outputs": []
    },
    {
      "cell_type": "markdown",
      "source": [
        "## Lists, Indexing, & For Loops"
      ],
      "metadata": {
        "id": "3sKyi908MpqH"
      }
    },
    {
      "cell_type": "markdown",
      "source": [
        "Sometimes we want to store a bunch of information **together**. One way we can do that using a list. We make a list using `[ ]` and putting the values we want to store in between, separted by commas. For example..."
      ],
      "metadata": {
        "id": "um77O76Ua7v-"
      }
    },
    {
      "cell_type": "code",
      "source": [
        "colors = [\"red\",\"orange\",\"yellow\",\"green\",\"blue\",\"purple\"]\n",
        "colors"
      ],
      "metadata": {
        "id": "7OLqAWJbhLLW"
      },
      "execution_count": null,
      "outputs": []
    },
    {
      "cell_type": "markdown",
      "source": [
        "We've seen how to put values *into* a list. But what if we want to get a value back *out* of the list?\n",
        "\n",
        "Each value in a list lives at an address called an **index**. To get the value that lives at index `i`, we use square brackets like this: `my_list[i]`.\n",
        "\n",
        "One complication is that the indices start at 0. That means that we use `[0]` to get the first value in the array, `[1]` to get the second value, etc.\n",
        "\n",
        "For example, to print the first color in the `colors` list, we would use..."
      ],
      "metadata": {
        "id": "lwgLXUDneOW1"
      }
    },
    {
      "cell_type": "code",
      "source": [
        "colors[0]"
      ],
      "metadata": {
        "id": "y9zFk6bUeN_m"
      },
      "execution_count": null,
      "outputs": []
    },
    {
      "cell_type": "markdown",
      "source": [
        "Often we use computer code to do the similar tasks over and over. We can do this using a loop. The next cell shows how we can use a `for` loop to print out the color at each index in the list."
      ],
      "metadata": {
        "id": "vbbTQaXuvOpW"
      }
    },
    {
      "cell_type": "code",
      "source": [
        "for i in [0,1,2,3,4,5]:\n",
        "  print(colors[i],\"is at index\",i)"
      ],
      "metadata": {
        "id": "u0YVOOGztolk"
      },
      "execution_count": null,
      "outputs": []
    },
    {
      "cell_type": "markdown",
      "source": [
        "‼️**Your Turn**‼️ Can you use indexing to print out your favorite color from the list `colors`?"
      ],
      "metadata": {
        "id": "BYOUSw3Lg2bQ"
      }
    },
    {
      "cell_type": "code",
      "source": [
        "####### YOUR CODE HERE #######\n",
        "print(\"My favorite color is\", colors[])"
      ],
      "metadata": {
        "id": "yyWa4pBWhhhN"
      },
      "execution_count": null,
      "outputs": []
    },
    {
      "cell_type": "markdown",
      "source": [
        "## Functions"
      ],
      "metadata": {
        "id": "RBYQQzlKy8MD"
      }
    },
    {
      "cell_type": "markdown",
      "source": [
        "For loops are nice for doing really similar, simple taks over and over.\n",
        "\n",
        "Sometimes, though, we want to do complicated things over and over. One way to do this is using a **function**.\n",
        "\n",
        "You can think of a function as a little machine. It takes in an **input** and **returns** an output."
      ],
      "metadata": {
        "id": "c27PgkjBzYwl"
      }
    },
    {
      "cell_type": "markdown",
      "source": [
        "![image.png](data:image/png;base64,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)"
      ],
      "metadata": {
        "id": "_JIbePXOz479"
      }
    },
    {
      "cell_type": "markdown",
      "source": [
        "Here's an example of a function."
      ],
      "metadata": {
        "id": "nuWgzChk0HtF"
      }
    },
    {
      "cell_type": "code",
      "source": [
        "def my_first_function(var):\n",
        "  if var < 0:\n",
        "    var = 0\n",
        "  else:\n",
        "    var = var + 10\n",
        "    var = var / 12\n",
        "    var = var * 3.4\n",
        "  return var"
      ],
      "metadata": {
        "id": "Clc62jN9zXY2"
      },
      "execution_count": null,
      "outputs": []
    },
    {
      "cell_type": "markdown",
      "source": [
        "Now we can use our function on some different inputs!"
      ],
      "metadata": {
        "id": "M2Uh9-xF0m6J"
      }
    },
    {
      "cell_type": "code",
      "source": [
        "my_first_function(-10)"
      ],
      "metadata": {
        "id": "t3JKuAPTJzg9"
      },
      "execution_count": null,
      "outputs": []
    },
    {
      "cell_type": "code",
      "source": [
        "my_first_function(34)"
      ],
      "metadata": {
        "id": "Xq1a99dQ0lFF"
      },
      "execution_count": null,
      "outputs": []
    },
    {
      "cell_type": "code",
      "source": [
        "my_first_function(125)"
      ],
      "metadata": {
        "id": "PJVWAXT60svN"
      },
      "execution_count": null,
      "outputs": []
    },
    {
      "cell_type": "markdown",
      "source": [
        "‼️**Your Turn**‼️ Can you write a function that...\n",
        "- Takes in a variable\n",
        "- If the variable is less than 10, it divides the variable by 2\n",
        "- Otherwise, it multiplies the variable by 3 and adds 1\n",
        "- Returns the output"
      ],
      "metadata": {
        "id": "39ImWa5y00iA"
      }
    },
    {
      "cell_type": "code",
      "source": [
        "def my_second_function(var):\n",
        "  if var < 10:\n",
        "    ####### YOUR CODE HERE #######\n",
        "  else:\n",
        "    ####### YOUR CODE HERE #######\n",
        "  ####### YOUR CODE HERE #######"
      ],
      "metadata": {
        "id": "4z2R0LyN00iB"
      },
      "execution_count": null,
      "outputs": []
    },
    {
      "cell_type": "markdown",
      "source": [
        "## Making Graphs in Python"
      ],
      "metadata": {
        "id": "BY5dI0YC_cl0"
      }
    },
    {
      "cell_type": "markdown",
      "source": [
        "Another reason that functions are nice is because they allow us to **use code that other people wrote**. To use other people's code, they have to put it into a **\"package\"** with a name, and then we can `import` it into our notebook.\n",
        "\n",
        "Right now we'll learn about how to use code that other people wrote to make pretty plots and graphs to visualize math and data, sort of like in a fancy graphing calculator. This code lives in the package called `pyplot`, with the shortcut `plt`.\n",
        "\n",
        "Later on, we'll use some code that allows us to use python sort of like an Excel spreadsheet. This code lives in a package called `pandas`, with the shortcut `pd`.\n",
        "\n",
        "Here's how to import the `pyplot` package."
      ],
      "metadata": {
        "id": "SNTxtCJ0MDGI"
      }
    },
    {
      "cell_type": "code",
      "source": [
        "from matplotlib import pyplot as plt"
      ],
      "metadata": {
        "id": "UYKBHl0D_cl0"
      },
      "execution_count": null,
      "outputs": []
    },
    {
      "cell_type": "markdown",
      "source": [
        "There are lots of different types of plots we can make using `pyplot`, and even more we can make using another package called `seaborn` (or `sns` for short).\n",
        "\n",
        "These plots include...\n",
        "- Scatter plots\n",
        "- Line graphs\n",
        "- Bar charts\n",
        "- Box-and-whiskers charts\n",
        "- Histograms\n",
        "\n",
        "Here are some examples, all using the same data points."
      ],
      "metadata": {
        "id": "fg5yrAKCVM3z"
      }
    },
    {
      "cell_type": "code",
      "source": [
        "x = [0,1,2,3,4,5,6,7,8,9,10,11,12]\n",
        "y = [3,4,3,6,12,6,9,15,10,6,6,4,6]"
      ],
      "metadata": {
        "id": "0pQ9YIlUX9qx"
      },
      "execution_count": null,
      "outputs": []
    },
    {
      "cell_type": "code",
      "source": [
        "plt.scatter(x,y,label=\"My awesome data\")\n",
        "plt.title(\"Here's a scatterplot of my data!\")\n",
        "plt.xlabel(\"x\")\n",
        "plt.ylabel(\"y\")\n",
        "plt.legend()\n",
        "plt.show()"
      ],
      "metadata": {
        "id": "mMhnQF1CUOdE"
      },
      "execution_count": null,
      "outputs": []
    },
    {
      "cell_type": "code",
      "source": [
        "plt.plot(x,y,label=\"My awesome data\")\n",
        "plt.title(\"Here's a line plot of my data!\")\n",
        "plt.xlabel(\"x\")\n",
        "plt.ylabel(\"y\")\n",
        "plt.legend()\n",
        "plt.show()"
      ],
      "metadata": {
        "id": "O2jHzPV6Zfgr"
      },
      "execution_count": null,
      "outputs": []
    },
    {
      "cell_type": "code",
      "source": [
        "plt.bar(x,y,label=\"My awesome data\")\n",
        "plt.title(\"Here's a bar chart of my data!\")\n",
        "plt.xlabel(\"x\")\n",
        "plt.ylabel(\"y\")\n",
        "plt.legend()\n",
        "plt.show()"
      ],
      "metadata": {
        "id": "bgirdEYiXp5P"
      },
      "execution_count": null,
      "outputs": []
    },
    {
      "cell_type": "code",
      "source": [
        "plt.hist(y,edgecolor='black')\n",
        "plt.title(\"Here's a histogram of my y data!\")\n",
        "plt.xlabel(\"y value\")\n",
        "plt.ylabel(\"frequency\")\n",
        "plt.show()"
      ],
      "metadata": {
        "id": "AOvVSI4wYF95"
      },
      "execution_count": null,
      "outputs": []
    },
    {
      "cell_type": "code",
      "source": [
        "plt.boxplot(y)\n",
        "plt.title(\"Here's a box-and-whiskers plot of my y data!\")\n",
        "plt.ylabel(\"y value\")\n",
        "plt.show()"
      ],
      "metadata": {
        "id": "hFNxgi9AYMIk"
      },
      "execution_count": null,
      "outputs": []
    },
    {
      "cell_type": "markdown",
      "source": [
        "‼️**Your Turn**‼️ Can you finish this code to make a box-and-whiskers plot of the x data? Make sure to give your plot a title!"
      ],
      "metadata": {
        "id": "UYOkxG5DVCpK"
      }
    },
    {
      "cell_type": "code",
      "source": [
        "####### YOUR CODE HERE #######"
      ],
      "metadata": {
        "id": "EnLGoKuKUrWk"
      },
      "execution_count": null,
      "outputs": []
    },
    {
      "cell_type": "markdown",
      "source": [
        "# Doing your own Genome-Wide Association Study (GWAS)"
      ],
      "metadata": {
        "id": "F701ObAv_cl1"
      }
    },
    {
      "cell_type": "markdown",
      "source": [
        "## Loading Necessary Helper Files"
      ],
      "metadata": {
        "id": "BQVD4Mn3_cl1"
      }
    },
    {
      "cell_type": "markdown",
      "source": [
        "‼️**You have to run this cell or else the rest of the activity won't work!**‼️\n",
        "\n",
        " This imports a bunch of functions that we've written to help you do GWAS."
      ],
      "metadata": {
        "id": "ypjIzvUgaNv7"
      }
    },
    {
      "cell_type": "code",
      "source": [
        "!git clone https://github.com/suzannastep/compbio-tutorial.git\n",
        "%cd compbio-tutorial/introgwas\n",
        "%run introgwas.py"
      ],
      "metadata": {
        "id": "Fhy9ffjy_cl1"
      },
      "execution_count": null,
      "outputs": []
    },
    {
      "cell_type": "markdown",
      "source": [
        "## Simulate data\n",
        "\n",
        "GWAS requires data from a lot of different people in order to have statistical certainty. Just the data from the people in this classroom wouldn't be enough. We're going to create (pretend) data to do our GWAS on.\n",
        "\n",
        "Simulating this data is very easy if we remember that the genetic data is stored through encodings called genotypes. Genotypes are written as :\n",
        "- 0: meaning you don't have the variant at that location\n",
        "- 1: meaning you have one copy of the variant\n",
        "- 2: meaning you have both copies of the variant\n",
        "\n",
        "For any site measured in a persons genome, they will have one of these values. This means we can easily simulate this data by randomly generating a list of 0's, 1's, and 2's.\n",
        "\n",
        "This simulation is packaged into a function called `simulate_genotypes()`.\n",
        "\n",
        "Since this dataset is pretend, we will also have to generate the trait data. For us this will be LDL Cholesterol Levels. Complex traits are a mixture of a person's genetics and their environments. To recreate this, we have a secret formula which will calculate the \"true\" LDL levels a person has, which combines the genotypes simulated in the first step, and a random environmental component.\n",
        "\n",
        "In the real world, much of the goal of geneticists is to try figure out the relationship between genes, the environment, and traits of interest."
      ],
      "metadata": {
        "id": "jDuNGUfD_cl2"
      }
    },
    {
      "cell_type": "code",
      "source": [
        "number_of_people = 900\n",
        "genotypes = simulate_genotypes(number_of_people)\n",
        "ldl_levels = simulate_LDL_levels(genotypes)\n",
        "df = create_dataframe(genotypes,ldl_levels)"
      ],
      "metadata": {
        "id": "q_VN_b5j_cl2"
      },
      "execution_count": null,
      "outputs": []
    },
    {
      "cell_type": "markdown",
      "source": [
        "We've used a package called `pandas` to do format the output of this simulation nicely. Pandas allows you to create and manipulate charts that look like Excel spreadsheets. These charts are called `dataframes`, or `df` for short."
      ],
      "metadata": {
        "id": "E508I7EFamzg"
      }
    },
    {
      "cell_type": "code",
      "source": [
        "df"
      ],
      "metadata": {
        "id": "n7gNDNHb_cl3"
      },
      "execution_count": null,
      "outputs": []
    },
    {
      "cell_type": "markdown",
      "source": [
        "Now, let's visualize the data to make sure the data looks the way we expect. Think for a moment: how would you expect measurements of LDL levels in a group of people to look? You can imagine, some people might have higher LDL levels than normal, and some people might have lower levels. However, most people will probably have LDL levels somewhere in between these two extremes. We can see a distribution of the data following that expectation in this plot below."
      ],
      "metadata": {
        "id": "ppGhT9u__cl3"
      }
    },
    {
      "cell_type": "markdown",
      "source": [
        "To get the data stored in the `LDL Cholesterol Level (mg/dL)` part of the pandas dataframe, we index into it like this:\n",
        "```\n",
        "df[\"LDL Cholesterol Level (mg/dL)\"]\n",
        "```\n",
        "Then we can make our charts using `pyplot` like we did before."
      ],
      "metadata": {
        "id": "V_Y_Jdiia5zU"
      }
    },
    {
      "cell_type": "code",
      "source": [
        "plt.hist(df[\"LDL Cholesterol Level (mg/dL)\"],edgecolor='black')\n",
        "plt.title(\"Histogram of LDL Cholesterol Levels\")\n",
        "plt.ylabel(\"Frequency\")\n",
        "plt.xlabel(\"LDL Cholesterol Level (mg/dL)\")\n",
        "plt.show()"
      ],
      "metadata": {
        "id": "HUUtboY4_cl4"
      },
      "execution_count": null,
      "outputs": []
    },
    {
      "cell_type": "markdown",
      "source": [
        "‼️**Your Turn**‼️ From looking at this histogram, what are typical LDL Cholesterol Levels in our data? Include units in your answer."
      ],
      "metadata": {
        "id": "o6vB8LUddR7O"
      }
    },
    {
      "cell_type": "markdown",
      "source": [
        "####### YOUR ANSWER HERE (DOUBLE CLICK TO EDIT) #######"
      ],
      "metadata": {
        "id": "saK5U8Hcda1l"
      }
    },
    {
      "cell_type": "markdown",
      "metadata": {
        "id": "L59zEa3J_cl4"
      },
      "source": [
        "## Looking for SNPs that affect LDL"
      ]
    },
    {
      "cell_type": "markdown",
      "source": [
        "Now that we have generated the genetic and trait data, we are ready to do the GWAS. A GWAS (or Genome Wide Association Study) is a mathematical equation that finds the effect of each genotype on a particular trait. We have packaged all the code for this in a tidy function, but let's unpack what is going on inside so we all understand the results.\n",
        "\n",
        "Many GWAS use simple algebra to predict whether or not a particular variant may be associated with a trait. The math may look a bit familiar to you!\n",
        "Essentially, a GWAS tries to find a line that best fits the data. The equation for a line looks like:\n",
        "\n"
      ],
      "metadata": {
        "id": "p2rCFJ7w_cl4"
      }
    },
    {
      "cell_type": "markdown",
      "source": [
        "$y = mx + b$"
      ],
      "metadata": {
        "id": "kp5-hRKe_cl5"
      }
    },
    {
      "cell_type": "markdown",
      "source": [
        "In a GWAS, the $y$ variable represents the trait (in our case the LDL Cholesterol Level), the $x$ represents the genotype at a given site. Our goal here will be to assess what the slope $m$ for each variant is. The $m$ will tell us how big of an effect that variant has on the trait-- its *effect size*.  Here is a quick breakdown of how to interpret it:\n",
        "- $m > 0$ : the variant tends to increase the trait\n",
        "- $m < 0$ : the variant tends to decrease the trait\n",
        "- $m = 0$ : the variant has no effect on the the trait"
      ],
      "metadata": {
        "id": "jCJ-h7ho_cl5"
      }
    },
    {
      "cell_type": "markdown",
      "metadata": {
        "id": "5eBVnkea_cl5"
      },
      "source": [
        "Let's have a look at the first variant in our data. We've made a scatterplot of the data and drawn a line that best fits the data."
      ]
    },
    {
      "cell_type": "code",
      "source": [
        "snp = 1\n",
        "sns.stripplot(x=f'SNP {snp}', y='LDL Cholesterol Level (mg/dL)', data=df, jitter=0.1,color='grey')\n",
        "sns.regplot(x=f'SNP {snp}', y='LDL Cholesterol Level (mg/dL)', data=df, scatter=False, color='orchid', ci=None)\n",
        "plt.xlabel(f'SNP {snp}')\n",
        "plt.ylabel('LDL Cholesterol Level (mg/dL)')\n",
        "plt.title(f'LDL Cholesterol Levels by SNP {snp} with Regression Line')\n",
        "plt.show()"
      ],
      "metadata": {
        "id": "lbra1Vw4_cl6"
      },
      "execution_count": null,
      "outputs": []
    },
    {
      "cell_type": "markdown",
      "source": [
        "‼️**Your Turn**‼️ Do you think this variant increases, decreases, or does not affect LDL Cholesterol Levels?"
      ],
      "metadata": {
        "id": "DqaE6Uj4dlsV"
      }
    },
    {
      "cell_type": "markdown",
      "source": [
        "####### YOUR ANSWER HERE (DOUBLE CLICK TO EDIT) #######"
      ],
      "metadata": {
        "id": "8MpRgnebdp_d"
      }
    },
    {
      "cell_type": "markdown",
      "source": [
        "‼️**Your Turn**‼️ Can you use the code above to make scatter plots for each SNP and drawn lines of best fit?"
      ],
      "metadata": {
        "id": "w8o1CMX52CfD"
      }
    },
    {
      "cell_type": "code",
      "source": [
        "####### YOUR CODE HERE #######"
      ],
      "metadata": {
        "id": "Amos6Glh2oH4"
      },
      "execution_count": null,
      "outputs": []
    },
    {
      "cell_type": "markdown",
      "source": [
        "‼️**Your Turn**‼️ Based on the plots you made,  which SNPs do you think have an important effect on LDL levels?"
      ],
      "metadata": {
        "id": "3jHxcLFN2pfr"
      }
    },
    {
      "cell_type": "markdown",
      "source": [
        "####### YOUR ANSWER HERE (DOUBLE CLICK TO EDIT) #######"
      ],
      "metadata": {
        "id": "3a3P6VBd2yfb"
      }
    },
    {
      "cell_type": "markdown",
      "source": [
        "In deciding whether a mutation is important, it may be helpful to compare the medians for each genotype.\n",
        "A median is a kind of average where we look at the value for the \"middle\" person. For example, the median of the following list of numbers is `5`.\n",
        "```\n",
        "1 1 2 5 8 12 25\n",
        "```\n",
        "Let's take a look at the median LDL cholesterol levels of people for each mutation, computing the median LDL cholesterol level for individuals with the same genotype.\n",
        "\n",
        "Here is some code for getting the median of each genotype group for the first SNP."
      ],
      "metadata": {
        "id": "Zy8YNR3e_cl6"
      }
    },
    {
      "cell_type": "code",
      "source": [
        "snp = 1\n",
        "df.groupby(f'SNP {snp}')['LDL Cholesterol Level (mg/dL)'].median()"
      ],
      "metadata": {
        "id": "wxgVm8iA_cl7"
      },
      "execution_count": null,
      "outputs": []
    },
    {
      "cell_type": "markdown",
      "source": [
        " ‼️**Your Turn**‼️ Can you use this code to get the medians for all SNPs in a `for` loop?"
      ],
      "metadata": {
        "id": "ahs2wgljbReP"
      }
    },
    {
      "cell_type": "code",
      "source": [
        "####### YOUR CODE HERE #######"
      ],
      "metadata": {
        "id": "S-hXlYpt_cl7"
      },
      "execution_count": null,
      "outputs": []
    },
    {
      "cell_type": "markdown",
      "source": [
        "Another helpful way to compare the medians is by using a special plot called a boxplot. Here is an example of how to plot the data for the first mutation."
      ],
      "metadata": {
        "id": "cGOGq290_cl8"
      }
    },
    {
      "cell_type": "code",
      "source": [
        "snp = 1\n",
        "plt.boxplot([df[\"LDL Cholesterol Level (mg/dL)\"][df[f\"SNP {snp}\"] == genotype] for genotype in [0,1,2]])\n",
        "plt.xticks(ticks=range(1,4), labels=[0,1,2])\n",
        "plt.xlabel('SNP')\n",
        "plt.ylabel('LDL Cholesterol Level (mg/dL)')\n",
        "plt.title('Boxplot of LDL Cholesterol Level by Genotype')\n",
        "plt.show()"
      ],
      "metadata": {
        "id": "idk4mLXU_cl8"
      },
      "execution_count": null,
      "outputs": []
    },
    {
      "cell_type": "markdown",
      "source": [
        " ‼️**Your Turn**‼️ Can you recreate this plot for all the SNPs using a `for` loop?\n",
        "\n",
        " *For an extra challenge, try to add a title and $x$-axis specific to each SNP.*"
      ],
      "metadata": {
        "id": "G_YsXe8fbd4F"
      }
    },
    {
      "cell_type": "code",
      "source": [
        "####### YOUR CODE HERE #######"
      ],
      "metadata": {
        "id": "6W2dZFJr_cl8"
      },
      "execution_count": null,
      "outputs": []
    },
    {
      "cell_type": "markdown",
      "source": [
        " ‼️**Your Turn**‼️ Based on the box and whiskers plots you made, which SNPs do you think have an important effect on LDL levels?"
      ],
      "metadata": {
        "id": "sIPsM4X6_cl9"
      }
    },
    {
      "cell_type": "markdown",
      "source": [
        "####### YOUR ANSWER HERE (DOUBLE CLICK TO EDIT) #######"
      ],
      "metadata": {
        "id": "meZFM9ZgeoqE"
      }
    },
    {
      "cell_type": "markdown",
      "source": [
        "## Using $p$-values"
      ],
      "metadata": {
        "id": "OWoIUuT77XLE"
      }
    },
    {
      "cell_type": "markdown",
      "metadata": {
        "id": "Mc-e4Mm7_cl9"
      },
      "source": [
        "It is pretty hard to decide which mutations have an important effect on LDL levels! To help us decide which mutations are important, we also have to compute a $p$-value.\n",
        "\n",
        "Scientists use $p$-value to estimate the statistical certainty of their results. When you work with data in the real world, there is a possibility that you may find a result just by chance, and this only applies to the one place you found it. To try to avoid this issue, we use a statistic called the **$p$-value** to help us conclude whether our results will stand the test of time. Actually, $p$-values can actually be a bit of a complicated issue in statistics! If you would like to explore more about p-values, feel free to check out [this helpful website](https://www.scribbr.com/statistics/p-value/#:~:text=The%20p%20value%20is%20a,to%20reject%20the%20null%20hypothesis.), or ask one of the volunteers to tell you more!\n",
        "\n",
        "The rule of thumb is an effect is only significant if it has a a small $p$-value. And when I mean small, I mean really small! A $p$-value like `0.512` would not be considered significant, but a $p$-value like `0.000000000000512` would be considered significant.  Generally speaking, it's the number of zeros after the decimal point that matter.\n",
        "\n",
        "Mathematically, we often use **scientific notation** to get this idea across. In scientific notation, `0.5` would be written as `5.12e-01` to express that $0.512 = 5.12 \\times 10^{-1}$. The number `0.000000000000512` would be written as `5.12e-13` because $0.000000000000512 = 5 \\times 10^{-13}$. The exponent of $10$ (the number after `e`) in scientific notation is called the **order of magnitude**. A $p$-value with a very negative order of magnitude is considered significant.\n",
        "\n",
        "Today, we're going to use a function we've written called `line_of_best_fit` to find our line of best fit (slope/effect size and intercept) and compute a $p$-value, and write that $p$-value in scientific notation. In the next cell we use this function to compute the effect size (slope), intercept, and $p$-value for the first SNP."
      ]
    },
    {
      "cell_type": "code",
      "source": [
        "snp = 1\n",
        "results = line_of_best_fit(x=df[f\"SNP {snp}\"],y=df['LDL Cholesterol Level (mg/dL)'])\n",
        "print(\"snp\",snp,results)"
      ],
      "metadata": {
        "id": "edPtZhUj_cl9"
      },
      "execution_count": null,
      "outputs": []
    },
    {
      "cell_type": "markdown",
      "source": [
        " ‼️**Your Turn**‼️ What is the effect size and $p$-value for SNP 1? Is this $p$-value significant?"
      ],
      "metadata": {
        "id": "BUm6FDv3knjs"
      }
    },
    {
      "cell_type": "markdown",
      "source": [
        "####### YOUR ANSWER HERE (DOUBLE CLICK TO EDIT) #######"
      ],
      "metadata": {
        "id": "LQ4wTiS7krxu"
      }
    },
    {
      "cell_type": "markdown",
      "source": [
        " ‼️**Your Turn**‼️ Can you find the effect size and $p$-value for each SNP using a `for` loop?"
      ],
      "metadata": {
        "id": "tSmsokHKk0Se"
      }
    },
    {
      "cell_type": "code",
      "source": [
        "####### YOUR CODE HERE #######"
      ],
      "metadata": {
        "id": "7UnMDkl3k9wu"
      },
      "execution_count": null,
      "outputs": []
    },
    {
      "cell_type": "markdown",
      "source": [
        " ‼️**Your Turn**‼️ Write the effect sizes for each SNP in the following chart. Also record the order of magnitude of the $p$-values"
      ],
      "metadata": {
        "id": "EDWeT50LtP5W"
      }
    },
    {
      "cell_type": "markdown",
      "source": [
        "(DOUBLE CLICK TO EDIT)\n",
        "\n",
        "| SNP | Effect Size      | Order of Magnitude      |\n",
        "| ----| ---------------- |-------------------------|\n",
        "| 1   | EFFECT SIZE HERE | ORDER OF MAGNITUDE HERE |\n",
        "| 2   | EFFECT SIZE HERE | ORDER OF MAGNITUDE HERE |\n",
        "| 3   | EFFECT SIZE HERE | ORDER OF MAGNITUDE HERE |\n",
        "| 4   | EFFECT SIZE HERE | ORDER OF MAGNITUDE HERE |\n",
        "| 5   | EFFECT SIZE HERE | ORDER OF MAGNITUDE HERE |\n",
        "\n"
      ],
      "metadata": {
        "id": "cEwNcNLUtcr2"
      }
    },
    {
      "cell_type": "markdown",
      "source": [
        "## Making a Manhattan plot"
      ],
      "metadata": {
        "id": "YFKGLkPy7a77"
      }
    },
    {
      "cell_type": "markdown",
      "metadata": {
        "id": "NOIYJNzf_cl-"
      },
      "source": [
        "Now that we have all the effects and $p$-values for each SNP, we can make a plot to determine which are the most significant variants.\n",
        "\n",
        "In GWAS the results are typically represented in a plot called a Manhattan plot. Manhattan plots visualize all the variants across the genome on the $x$-axis, and their $p$-value on the $y$-axis.\n",
        "\n",
        "The $p$-values are shown in Manhattan plots as $-log_{10}p$. We use $-log_{10}p$ because this is roughly equal to the order of magnitude or number of zeros after the decimal in the $p$-value.\n",
        "Important SNPs will a lot of zeros after the decimal in their $p$-value, and so will have really high values of $-log_{10}p$."
      ]
    },
    {
      "cell_type": "markdown",
      "source": [
        "**‼️Your Turn‼️** Finish making the Manhattan plot by filling in the list of $p$-values.\n",
        "\n",
        "*Hint: Feel free to copy paste the values you computed above into the list!*"
      ],
      "metadata": {
        "id": "rbe_9CGOuXlR"
      }
    },
    {
      "cell_type": "code",
      "source": [
        "SNPs = [1,2,3,4,5]\n",
        "pvalues = [##### YOUR CODE HERE #####]\n",
        "neglog10pvalues = [-np.log10(p) for p in pvalues]\n",
        "plt.bar(SNPs,neglog10pvalues)\n",
        "plt.xlabel(\"SNP\")\n",
        "plt.ylabel(\"Order of Magnitude $-\\log_{10}(p)$\")\n",
        "plt.title(\"Manhattan Plot of SNPs\")\n",
        "plt.show()"
      ],
      "metadata": {
        "id": "Yd1F4oSMuWRI"
      },
      "execution_count": null,
      "outputs": []
    },
    {
      "cell_type": "markdown",
      "metadata": {
        "id": "yydVKFli_cl-"
      },
      "source": [
        " ‼️**Your Turn**‼️ Based on the Manhattan plot, which SNPs\n",
        "appear to have an important effect on LDL levels?"
      ]
    },
    {
      "cell_type": "markdown",
      "source": [
        "####### YOUR ANSWER HERE (DOUBLE CLICK TO EDIT) #######"
      ],
      "metadata": {
        "id": "im41ehqUe8fy"
      }
    },
    {
      "cell_type": "markdown",
      "source": [
        " ‼️**Your Turn**‼️ What are the effect sizes of the important SNPs?"
      ],
      "metadata": {
        "id": "Jjowo9PjzkeU"
      }
    },
    {
      "cell_type": "markdown",
      "source": [
        "####### YOUR ANSWER HERE (DOUBLE CLICK TO EDIT) #######"
      ],
      "metadata": {
        "id": "Drdvv90jzoM2"
      }
    }
  ]
}
