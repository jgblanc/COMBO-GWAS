{
  "nbformat": 4,
  "nbformat_minor": 0,
  "metadata": {
    "colab": {
      "provenance": []
    },
    "kernelspec": {
      "name": "python3",
      "display_name": "Python 3"
    },
    "language_info": {
      "name": "python"
    }
  },
  "cells": [
    {
      "cell_type": "markdown",
      "source": [
        "# A Crash Course on Computer Programing"
      ],
      "metadata": {
        "id": "wyulD63SHvF5"
      }
    },
    {
      "cell_type": "markdown",
      "source": [
        "This will be a brief crash course in the basics of computer programming using a computer \"language\" called Python. Python is used every day to do real science.\n",
        "\n",
        "We're going to write our code today in this Google CoLab Notebook. This allows us to write python code on the internet, sort of like Google Docs.\n",
        "\n",
        "Computer code is very specific instructions for what the computer should do.\n",
        "In this notebook, each bit of code or instructions is inside of a \"cell.\" You can make the computer follow the instructions in a cell by pressing the \"Play\" button in the top-left corner. We call this \"running\" a cell.\n",
        "\n",
        "Getting instructions out of order can be very confusing for people, and it's the same for comptuers. If you run cells out of order the computer might get confused and not work right.\n",
        "\n",
        "What happens if you run the first cell below?"
      ],
      "metadata": {
        "id": "D2dYvO4XIXBj"
      }
    },
    {
      "cell_type": "code",
      "source": [
        "1 + 1"
      ],
      "metadata": {
        "id": "9t24ig9NK3UI"
      },
      "execution_count": null,
      "outputs": []
    },
    {
      "cell_type": "markdown",
      "source": [
        "What about this cell?"
      ],
      "metadata": {
        "id": "YVIdd37UK98H"
      }
    },
    {
      "cell_type": "code",
      "source": [
        "print(\"Hello! Let's crack some genetic Code!!!\")"
      ],
      "metadata": {
        "id": "8onlP3nSKjCd"
      },
      "execution_count": null,
      "outputs": []
    },
    {
      "cell_type": "markdown",
      "source": [
        "Just like how you have to follow very specific grammar rules when you write an essay in English class, you have to follow very specific rules when you write computer code. If you don't follow the grammar rules, the computer won't be able to read what you've written and follow your instructions.\n",
        "\n",
        "Each computer language has different rules.\n",
        "Today we are going to learn some of the rules of python.\n",
        "\n",
        "## Let's jump into it!"
      ],
      "metadata": {
        "id": "HzO4KYdKLVyQ"
      }
    },
    {
      "cell_type": "markdown",
      "source": [
        "## Arithmetic"
      ],
      "metadata": {
        "id": "SRuuShf6MPQb"
      }
    },
    {
      "cell_type": "markdown",
      "source": [
        "Computers are very good at doing arithmetic. We can do arithmetic using `+ -  * /`.\n",
        "\n",
        "What will happen when I run the following cells of code?"
      ],
      "metadata": {
        "id": "F0pnYGY7SatV"
      }
    },
    {
      "cell_type": "code",
      "source": [
        "4 * 5"
      ],
      "metadata": {
        "id": "lt_D-QiKSHzY"
      },
      "execution_count": null,
      "outputs": []
    },
    {
      "cell_type": "code",
      "source": [
        "6 / 3"
      ],
      "metadata": {
        "id": "kGRzEcSQS35P"
      },
      "execution_count": null,
      "outputs": []
    },
    {
      "cell_type": "markdown",
      "source": [
        "## Strings"
      ],
      "metadata": {
        "id": "UKUykyjITc6c"
      }
    },
    {
      "cell_type": "markdown",
      "source": [
        "Some words, letters, or text surrounded by `\"\"` or `''` is called a **string**. Whenever we want to work with letters or words, we have to use strings."
      ],
      "metadata": {
        "id": "GdLI9wsDTeUS"
      }
    },
    {
      "cell_type": "code",
      "source": [
        "\"Hello World!\""
      ],
      "metadata": {
        "id": "BqoKphB-TcV3"
      },
      "execution_count": null,
      "outputs": []
    },
    {
      "cell_type": "markdown",
      "source": [
        "**Your Turn:**  Can you make a string with your name in it?"
      ],
      "metadata": {
        "id": "PMB_kgblUxja"
      }
    },
    {
      "cell_type": "code",
      "source": [
        "####### YOUR CODE HERE #######"
      ],
      "metadata": {
        "id": "1PyJqLteUw-m"
      },
      "execution_count": null,
      "outputs": []
    },
    {
      "cell_type": "markdown",
      "source": [
        "# Variables"
      ],
      "metadata": {
        "id": "96QHH59b3ccX"
      }
    },
    {
      "cell_type": "markdown",
      "source": [
        "**Variables** store information we want to use later. If we write a word *without* `\"\"` or `''` around it, the computer thinks that's a variable.\n",
        "\n",
        "We put information into variables using `=`."
      ],
      "metadata": {
        "id": "B6RHuZhd3dbt"
      }
    },
    {
      "cell_type": "code",
      "source": [
        "todays_date = \"March 25, 2023\""
      ],
      "metadata": {
        "id": "FtlCcp3Q33kG"
      },
      "execution_count": null,
      "outputs": []
    },
    {
      "cell_type": "markdown",
      "source": [
        "In the next cell, the computer still has the string `March 25, 2023` stored inside of the variable `todays_date`."
      ],
      "metadata": {
        "id": "XMP3oRS6392b"
      }
    },
    {
      "cell_type": "code",
      "source": [
        "todays_date"
      ],
      "metadata": {
        "id": "YDLuuE_P39Kn"
      },
      "execution_count": null,
      "outputs": []
    },
    {
      "cell_type": "markdown",
      "source": [
        "## Lists & Indexing"
      ],
      "metadata": {
        "id": "3sKyi908MpqH"
      }
    },
    {
      "cell_type": "markdown",
      "source": [
        "Sometimes we want to store a bunch of information together. We can do that using a list. We make a list using `[ ]` and putting the values we want to store in between, separted by commas. For example..."
      ],
      "metadata": {
        "id": "um77O76Ua7v-"
      }
    },
    {
      "cell_type": "code",
      "source": [
        "colors = [\"red\",\"orange\",\"yellow\",\"green\",\"blue\",\"purple\"]\n",
        "colors"
      ],
      "metadata": {
        "id": "7OLqAWJbhLLW"
      },
      "execution_count": null,
      "outputs": []
    },
    {
      "cell_type": "markdown",
      "source": [
        "We've seen how to put values *into* a list. But what if we want to get a value back *out* of the list?\n",
        "\n",
        "Each value in a list lives at an address called an **index**. To get the value that lives at index `i`, we use square brackets like this: `my_list[i]`.\n",
        "\n",
        "One complication is that the indices start at 0. That means that we use `[0]` to get the first value in the array, `[1]` to get the second value, etc.\n",
        "\n",
        "For example, to print the first color in the `colors` list, we would use..."
      ],
      "metadata": {
        "id": "lwgLXUDneOW1"
      }
    },
    {
      "cell_type": "code",
      "source": [
        "print(colors[0])"
      ],
      "metadata": {
        "id": "y9zFk6bUeN_m"
      },
      "execution_count": null,
      "outputs": []
    },
    {
      "cell_type": "markdown",
      "source": [
        "Often we'd like to use the computer to do the similar tasks over and over. We can do this using a loop. The next cell shows how we can use a `for` loop to print out the color at each index in the list."
      ],
      "metadata": {
        "id": "vbbTQaXuvOpW"
      }
    },
    {
      "cell_type": "code",
      "source": [
        "for i in [0,1,2,3,4,5]:\n",
        "  print(colors[i],\"is at index\",i)"
      ],
      "metadata": {
        "id": "u0YVOOGztolk"
      },
      "execution_count": null,
      "outputs": []
    },
    {
      "cell_type": "markdown",
      "source": [
        "**Your turn:** Can you use indexing to print out your favorite color from the list `colors`?"
      ],
      "metadata": {
        "id": "BYOUSw3Lg2bQ"
      }
    },
    {
      "cell_type": "code",
      "source": [
        "####### YOUR CODE HERE #######\n",
        "print(\"My favorite color is\", colors[])"
      ],
      "metadata": {
        "id": "yyWa4pBWhhhN"
      },
      "execution_count": null,
      "outputs": []
    },
    {
      "cell_type": "markdown",
      "source": [
        "# Decoding DNA!"
      ],
      "metadata": {
        "id": "P3Msqk1-Hp3O"
      }
    },
    {
      "cell_type": "markdown",
      "source": [
        "Code in this next cell will load the codon table and some helper functions for the rest of this activity."
      ],
      "metadata": {
        "id": "3U446qRYGuhE"
      }
    },
    {
      "cell_type": "code",
      "source": [
        "#read in the helper file\n",
        "!git clone https://github.com/suzannastep/compbio-tutorial.git\n",
        "%cd compbio-tutorial/S3F\n",
        "%run geneticcode.py"
      ],
      "metadata": {
        "id": "GW1zBKi6Ch3e"
      },
      "execution_count": null,
      "outputs": []
    },
    {
      "cell_type": "code",
      "source": [
        "codon_table"
      ],
      "metadata": {
        "id": "QrKyxs-7Inx6"
      },
      "execution_count": null,
      "outputs": []
    },
    {
      "cell_type": "markdown",
      "source": [
        "Next, we'll add colors to amino acids in the table, and make it look really nice."
      ],
      "metadata": {
        "id": "LiTirFNFxyyy"
      }
    },
    {
      "cell_type": "code",
      "source": [
        "#show the chart\n",
        "show_codon_table(codon_table)"
      ],
      "metadata": {
        "id": "cMmWIY-x1Mpc"
      },
      "execution_count": null,
      "outputs": []
    },
    {
      "cell_type": "markdown",
      "source": [
        "This next cell converts the table into a form the computer can use to look up information stored in the table. We can use the index the `Lookup_Codon` using a codon string like `ATC` to find the name and one letter code of that amino acid."
      ],
      "metadata": {
        "id": "DFDy5ly-WFf4"
      }
    },
    {
      "cell_type": "code",
      "source": [
        "Lookup_Codon = {codon_table.index[i]: list(codon_table.iloc[i,:]) for i in range(len(codon_table.index))}\n",
        "\n",
        "## each item in this dictionary is structured as\n",
        "## <triplet>: [aa_name, aa_abbr, aa_color]\n",
        "## so, to get the full name, letter, and color for a particular codon, let's say ATC:\n",
        "amino_acid_name, amino_acid_abbr, amino_acid_color = Lookup_Codon['ATC']\n",
        "# check it out:\n",
        "print(f'The codon ATC encodes amino acid {amino_acid_name}, abbreviated as {amino_acid_abbr}, and is assigned the color {amino_acid_color}.')"
      ],
      "metadata": {
        "id": "XYzTypRayHp7"
      },
      "execution_count": null,
      "outputs": []
    },
    {
      "cell_type": "markdown",
      "source": [
        "Now, let's go back to the sequence that codes for part of the Green Fluorescent Protein.\n",
        "\n",
        "`GAAAACATGGAGAACGATGAAAATATTGTGTATGGT`\n",
        "\n",
        "You just made an awesome bracelet of the amino acids that this sequence codes for. Want to see how much faster the computer can decode this DNA?"
      ],
      "metadata": {
        "id": "OER4ZeTcH7_Y"
      }
    },
    {
      "cell_type": "markdown",
      "source": [
        "Code we want to use over and over with slightly different inputs can be put inside of a **function**. To use functions, we put the name of the function followed by parentheses with the inputs inside of them like this:\n",
        "```\n",
        "my_function(inputs)\n",
        "```\n",
        "\n",
        "In the `geneticcode.py` script we loaded earlier, there is a function to turn strings of DNA into strigns of amino acids. Below is the function working on the DNA that codes for luciferace."
      ],
      "metadata": {
        "id": "n08oRYcdyCRh"
      }
    },
    {
      "cell_type": "code",
      "source": [
        "decode_sequence(\"GAAAACATGGAGAACGATGAAAATATTGTGTATGGT\")"
      ],
      "metadata": {
        "id": "mOPRliuYgdbw"
      },
      "execution_count": null,
      "outputs": []
    },
    {
      "cell_type": "markdown",
      "source": [
        "You can time how long it takes to decode the sequence using `%time`"
      ],
      "metadata": {
        "id": "7LOdvtt_HZdg"
      }
    },
    {
      "cell_type": "code",
      "source": [
        "%time decode_sequence(\"GAAAACATGGAGAACGATGAAAATATTGTGTATGGT\")"
      ],
      "metadata": {
        "id": "MgFYXkxzHWkM"
      },
      "execution_count": null,
      "outputs": []
    },
    {
      "cell_type": "markdown",
      "source": [
        "That's really fast! But of course, it didn't have to physically craft anything like you did."
      ],
      "metadata": {
        "id": "oM-FwoS481nN"
      }
    },
    {
      "cell_type": "markdown",
      "source": [
        "This next function won't make a bracelet, but it will make a picture of the chain of amino acids using the same colors as before. That's sort of close, right? This function is called `make_picture()`."
      ],
      "metadata": {
        "id": "IEq1wzXIROfM"
      }
    },
    {
      "cell_type": "code",
      "source": [
        "make_picture(\"GAAAACATGGAGAACGATGAAAATATTGTGTATGGT\")"
      ],
      "metadata": {
        "id": "TbJrqSHRFqZs"
      },
      "execution_count": null,
      "outputs": []
    },
    {
      "cell_type": "markdown",
      "source": [
        "**Challenge question:** What happens to the chain of amino acids if we change a few base-pairs in the sequence? Try removing, adding or changing letters in the input sequence and seeing what happens! Remember, every letter in the input sequence must be either `G`,`C`,`A` or `T`."
      ],
      "metadata": {
        "id": "q0QBmcWPYO1X"
      }
    },
    {
      "cell_type": "code",
      "source": [
        "make_picture(\"GAAAACATGGAGCACTGAAAGTAATATTGTGTAAAATTGGGCCATGGT\")"
      ],
      "metadata": {
        "id": "mR2P0_-paIP2"
      },
      "execution_count": null,
      "outputs": []
    }
  ]
}